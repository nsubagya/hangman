{
 "cells": [
  {
   "cell_type": "code",
   "execution_count": null,
   "id": "08aa2df7-55af-413a-b6d2-abf37a8e5d2f",
   "metadata": {},
   "outputs": [],
   "source": []
  },
  {
   "cell_type": "code",
   "execution_count": 2,
   "id": "596f4b7e-1281-440f-8bba-66f772c47660",
   "metadata": {},
   "outputs": [
    {
     "name": "stdout",
     "output_type": "stream",
     "text": [
      "Overwriting hangman_arts.py\n"
     ]
    }
   ],
   "source": [
    "%%writefile hangman_arts.py\n",
    "\n",
    "stages = ['''\n",
    "  +---+\n",
    "  |   |\n",
    "  O   |\n",
    " /|\\  |\n",
    " / \\  |\n",
    "      |\n",
    "=========\n",
    "''', '''\n",
    "  +---+\n",
    "  |   |\n",
    "  O   |\n",
    " /|\\  |\n",
    " /    |\n",
    "      |\n",
    "=========\n",
    "''', '''\n",
    "  +---+\n",
    "  |   |\n",
    "  O   |\n",
    " /|\\  |\n",
    "      |\n",
    "      |\n",
    "=========\n",
    "''', '''\n",
    "  +---+\n",
    "  |   |\n",
    "  O   |\n",
    " /|   |\n",
    "      |\n",
    "      |\n",
    "=========''', '''\n",
    "  +---+\n",
    "  |   |\n",
    "  O   |\n",
    "  |   |\n",
    "      |\n",
    "      |\n",
    "=========\n",
    "''', '''\n",
    "  +---+\n",
    "  |   |\n",
    "  O   |\n",
    "      |\n",
    "      |\n",
    "      |\n",
    "=========\n",
    "''', '''\n",
    "  +---+\n",
    "  |   |\n",
    "      |\n",
    "      |\n",
    "      |\n",
    "      |\n",
    "=========\n",
    "''']\n",
    "\n",
    "logo = ''' \n",
    " _                                             \n",
    "| |                                            \n",
    "| |__   __ _ _ __   __ _ _ __ ___   __ _ _ __  \n",
    "| '_ \\ / _` | '_ \\ / _` | '_ ` _ \\ / _` | '_ \\ \n",
    "| | | | (_| | | | | (_| | | | | | | (_| | | | |\n",
    "|_| |_|\\__,_|_| |_|\\__, |_| |_| |_|\\__,_|_| |_|\n",
    "                    __/ |                      \n",
    "                   |___/    '''\n"
   ]
  },
  {
   "cell_type": "code",
   "execution_count": 5,
   "id": "eac7c724-9c6f-485a-8604-3a200f4bc331",
   "metadata": {},
   "outputs": [
    {
     "name": "stdout",
     "output_type": "stream",
     "text": [
      "Overwriting hangman_words.py\n"
     ]
    }
   ],
   "source": [
    "%%writefile hangman_words.py\n",
    "import nltk\n",
    "nltk.download('words')\n",
    "\n",
    "from nltk.corpus import words\n",
    "\n",
    "# Get the list of English words\n",
    "english_word_list = words.words()"
   ]
  },
  {
   "cell_type": "code",
   "execution_count": 16,
   "id": "a75fbcd0-df8b-40f9-a7b0-104bce11c043",
   "metadata": {},
   "outputs": [
    {
     "name": "stdout",
     "output_type": "stream",
     "text": [
      "\n",
      "The guess u was wrong, try again!\n",
      "\n",
      "  +---+\n",
      "  |   |\n",
      "  O   |\n",
      " /|\\  |\n",
      " / \\  |\n",
      "      |\n",
      "=========\n",
      "\n",
      "\n",
      "Sorry, you lost a life.\n",
      "Word to be gussed was:  lealness\n",
      "\n",
      "Lives remaining: 0\n",
      "Win status: no\n",
      "Incorrect guesses: ['f', 'j', 'r', 'g', 'y', 'u']\n",
      "Word gussed upto now is:  _ _ _ _ _ _ _ _\n"
     ]
    }
   ],
   "source": [
    "#from replit import clear\n",
    "#import os\n",
    "from IPython.display import clear_output\n",
    "import random as rand\n",
    "from hangman_arts import logo,stages\n",
    "from hangman_words import english_word_list\n",
    "#word_list = [\"Cat\", \"Apple\", \"Walmart\"]# change this to a bigger word list by importing later\n",
    "# Clear the console screen\n",
    "random_word=rand.choice(english_word_list).lower()\n",
    "random_word_length = len(random_word)\n",
    "print(logo)\n",
    "print(random_word)#clear this\n",
    "print('Word length is: ',random_word_length)# may be keep this\n",
    "lives=6\n",
    "win_game = False\n",
    "#display = []\n",
    "#for _ in range(random_word_length):\n",
    "#    display +='_'\n",
    "display = ['_'] * len(random_word)\n",
    "print(f\"{' '.join(display)}\")\n",
    "print('you have 6 lives')\n",
    "non_correct_letters = []\n",
    "\n",
    "\n",
    "\n",
    "\n",
    "while (lives != 0) and (win_game == False):#or not win_game(ctrl+] indent)\n",
    "\n",
    "        guess = input(\"Guess a letter: \").lower()\n",
    "        \n",
    "        #os.system('cls')#this is to clear previous\n",
    "        #os.system('cls' if os.name == 'nt' else 'clear')#clear console\n",
    "        if guess in display:\n",
    "            print(f'\\nyou already gussed the letter {guess}, guess another one')\n",
    "\n",
    "        if guess in non_correct_letters:\n",
    "            print(f'\\nyou already gussed the letter {guess} which is not correct, guess another one')\n",
    "\n",
    "        elif guess in random_word:\n",
    "            for index, letter in enumerate(random_word):\n",
    "                if letter == guess:\n",
    "                    display[index]=letter\n",
    "                    if '_' not in display:\n",
    "                        print('\\nCongratulations you won!')\n",
    "                        win_game = True\n",
    "        elif guess not in random_word:\n",
    "            clear_output(wait=True)\n",
    "            print(f'\\nThe guess {guess} was wrong, try again!')\n",
    "            non_correct_letters.append(guess)\n",
    "            lives -= 1\n",
    "            print(stages[lives])\n",
    "            if lives == 0:\n",
    "                print('\\nSorry, you lost a life.')\n",
    "                print('Word to be gussed was: ', random_word)\n",
    "\n",
    "        # Print the updated display, lives, and win_game status\n",
    "        #print(' '.join(display))\n",
    "        print(f'\\nLives remaining: {lives}')\n",
    "        print(f'Win status: {\"yes\" if win_game else \"no\"}')\n",
    "        print(\"Incorrect guesses:\", non_correct_letters)\n",
    "        print('Word gussed upto now is: ',f\"{' '.join(display)}\")\n",
    "        #print(lives)\n",
    "        #print(win_game)"
   ]
  },
  {
   "cell_type": "code",
   "execution_count": null,
   "id": "b1095b9e-4124-4c75-87d3-1bd5495085ba",
   "metadata": {},
   "outputs": [],
   "source": [
    "#pip install python-tk"
   ]
  },
  {
   "cell_type": "code",
   "execution_count": 10,
   "id": "dc72c1d6-5b97-4876-b2d1-bbc317b7ac1e",
   "metadata": {},
   "outputs": [],
   "source": [
    "import tkinter as tk\n",
    "from tkinter import messagebox\n",
    "import random"
   ]
  },
  {
   "cell_type": "code",
   "execution_count": null,
   "id": "e350ffb3-77cb-44d1-9173-6e5aed70f654",
   "metadata": {},
   "outputs": [],
   "source": []
  }
 ],
 "metadata": {
  "kernelspec": {
   "display_name": "Python 3 (ipykernel)",
   "language": "python",
   "name": "python3"
  },
  "language_info": {
   "codemirror_mode": {
    "name": "ipython",
    "version": 3
   },
   "file_extension": ".py",
   "mimetype": "text/x-python",
   "name": "python",
   "nbconvert_exporter": "python",
   "pygments_lexer": "ipython3",
   "version": "3.10.9"
  }
 },
 "nbformat": 4,
 "nbformat_minor": 5
}
